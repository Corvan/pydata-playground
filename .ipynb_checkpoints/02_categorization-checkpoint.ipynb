{
 "cells": [
  {
   "cell_type": "code",
   "execution_count": 1,
   "metadata": {},
   "outputs": [
    {
     "data": {
      "image/png": "[encoded data removed]",
      "text/plain": [
       "<Figure size 432x288 with 1 Axes>"
      ]
     },
     "metadata": {
      "needs_background": "light"
     },
     "output_type": "display_data"
    },
    {
     "name": "stdout",
     "output_type": "stream",
     "text": [
      "  categories  counts  frequency  percentage\n",
      "0    [0, 10)       4   0.266667   26.666667\n",
      "1   [10, 20)       4   0.266667   26.666667\n",
      "2   [20, 30)       3   0.200000   20.000000\n",
      "3   [30, 40)       2   0.133333   13.333333\n",
      "4   [40, 50)       2   0.133333   13.333333\n"
     ]
    }
   ],
   "source": [
    "%matplotlib inline\n",
    "import pandas as pd\n",
    "import numpy as np\n",
    "import matplotlib.pyplot as plt\n",
    "\n",
    "data = np.array([2, 2, 5, 7, 10, 12, 17, 18, 23, 23, 27, 31, 35, 41, 47])\n",
    "categorized = pd.cut(data, [0, 10, 20, 30, 40, 50], include_lowest=False, right=False)\n",
    "counts = pd.value_counts(categorized, sort=False)\n",
    "frequencies = [n / len(data) for n in counts]\n",
    "percentages = [h * 100 for h in frequencies]\n",
    "table = pd.DataFrame({\"categories\": categorized.categories, \n",
    "                      \"counts\": counts.values, \n",
    "                      \"frequency\": frequencies, \n",
    "                      \"percentage\": percentages})\n",
    "fig, ax = plt.subplots()\n",
    "n, bins, patches = ax.hist(data, 5, density=1)\n",
    "plt.show()\n",
    "print(table)\n"
   ]
  },
  {
   "cell_type": "code",
   "execution_count": null,
   "metadata": {},
   "outputs": [],
   "source": []
  }
 ],
 "metadata": {
  "kernelspec": {
   "display_name": "Python 3",
   "language": "python",
   "name": "python3"
  },
  "language_info": {
   "codemirror_mode": {
    "name": "ipython",
    "version": 3
   },
   "file_extension": ".py",
   "mimetype": "text/x-python",
   "name": "python",
   "nbconvert_exporter": "python",
   "pygments_lexer": "ipython3",
   "version": "3.7.1"
  }
 },
 "nbformat": 4,
 "nbformat_minor": 1
}
