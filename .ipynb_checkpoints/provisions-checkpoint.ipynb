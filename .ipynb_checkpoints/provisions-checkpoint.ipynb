{
 "cells": [
  {
   "cell_type": "code",
   "execution_count": 1,
   "metadata": {},
   "outputs": [
    {
     "name": "stdout",
     "output_type": "stream",
     "text": [
      "singular provisions: [5000.0, 4500.0, 4000.0, 2500.0]\n",
      "total provision: 16000.0\n"
     ]
    }
   ],
   "source": [
    "levels = {100000: 5,\n",
    "          150000: 3,\n",
    "          200000: 2,\n",
    "          250000: 1}\n",
    "price = 300000\n",
    "provisions = []\n",
    "\n",
    "for level, percentage in levels.items():\n",
    "    if price >= level:\n",
    "        provisions.append(level * percentage / 100)\n",
    "        \n",
    "print(f\"singular provisions: {provisions}\")\n",
    "\n",
    "total_provision = 0\n",
    "for provision in provisions:\n",
    "        total_provision += provision\n",
    "print(f\"total provision: {total_provision}\")"
   ]
  },
  {
   "cell_type": "code",
   "execution_count": null,
   "metadata": {},
   "outputs": [],
   "source": []
  }
 ],
 "metadata": {
  "kernelspec": {
   "display_name": "Python 3",
   "language": "python",
   "name": "python3"
  },
  "language_info": {
   "codemirror_mode": {
    "name": "ipython",
    "version": 3
   },
   "file_extension": ".py",
   "mimetype": "text/x-python",
   "name": "python",
   "nbconvert_exporter": "python",
   "pygments_lexer": "ipython3",
   "version": "3.7.1"
  }
 },
 "nbformat": 4,
 "nbformat_minor": 1
}
