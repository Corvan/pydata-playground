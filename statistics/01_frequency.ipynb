{
 "cells": [
  {
   "cell_type": "code",
   "execution_count": null,
   "metadata": {
    "collapsed": true
   },
   "outputs": [
    {
     "name": "stdout",
     "output_type": "stream",
     "text": [
      "        colors  absolute  relative  percentage\ncolors                                        \nred        red         7      0.35        35.0\nblue      blue         6      0.30        30.0\ngreen    green         4      0.20        20.0\nyellow  yellow         3      0.15        15.0\n"
     ]
    }
   ],
   "source": [
    "import pandas as pd\n",
    "archlist = pd.Series([\"red\", \"blue\", \"red\", \"green\", \"yellow\", \"blue\", \"red\", \"yellow\", \"green\", \"blue\", \"red\", \"red\", \n",
    "                      \"yellow\", \"green\", \"blue\", \"green\", \"red\", \"blue\", \"blue\", \"red\"])\n",
    "counts = archlist.value_counts()\n",
    "n = len(counts)\n",
    "sums = sum(counts, 0)\n",
    "colours = archlist.unique()\n",
    "relative = [counts[i] / sums for i in range(n)]\n",
    "percentage = [relative[i]*100 for i in range(n)]\n",
    "\n",
    "table = pd.DataFrame({\n",
    "    \"absolute\": counts.values, \n",
    "    \"relative\": relative,\n",
    "    \"percentage\": percentage}, index=colours)\n",
    "print(table)\n"
   ]
  },
  {
   "cell_type": "code",
   "execution_count": null,
   "metadata": {},
   "outputs": [],
   "source": []
  }
 ],
 "metadata": {
  "kernelspec": {
   "display_name": "Python 2",
   "language": "python",
   "name": "python2"
  },
  "language_info": {
   "codemirror_mode": {
    "name": "ipython",
    "version": 2
   },
   "file_extension": ".py",
   "mimetype": "text/x-python",
   "name": "python",
   "nbconvert_exporter": "python",
   "pygments_lexer": "ipython2",
   "version": "2.7.6"
  }
 },
 "nbformat": 4,
 "nbformat_minor": 0
}
