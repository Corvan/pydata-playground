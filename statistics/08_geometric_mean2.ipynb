{
 "cells": [
  {
   "cell_type": "code",
   "execution_count": 5,
   "metadata": {
    "collapsed": true
   },
   "outputs": [
    {
     "name": "stdout",
     "output_type": "stream",
     "text": [
      "Values: [3, 34, 2, 17, 6, 13, 29, 12, 9, 25]\nMean: 15.0\nGeometric Mean: 10.779374122487377\nHarmonic Mean: 6.973084577770003\n"
     ]
    }
   ],
   "source": [
    "from numpy.core.multiarray import ndarray\n",
    "import scipy.stats\n",
    "\n",
    "values1: ndarray = [3, 34, 2, 17, 6, 13, 29, 12, 9, 25]\n",
    "\n",
    "print(f\"Values: {values1}\")\n",
    "print(f\"Mean: {scipy.mean(values1)}\")\n",
    "print(f\"Geometric Mean: {scipy.stats.gmean(values1)}\")\n",
    "print(f\"Harmonic Mean: {scipy.stats.hmean(values1)}\")\n"
   ]
  },
  {
   "cell_type": "code",
   "execution_count": 68,
   "metadata": {},
   "outputs": [
    {
     "name": "stdout",
     "output_type": "stream",
     "text": [
      "   single  absolute  relative\n0       1         4      0.08\n1       3         5      0.10\n2       4         4      0.08\n3       7        11      0.22\n4       9        13      0.26\n5      10         7      0.14\n6      12         6      0.12\n\nSum single: 46\nSum absolute: 50\nSum relative: 100%\n\n                   single  absolute  relative\narithmetic mean  6.571429  7.420000  7.420000\ngeometric mean   5.107911  6.300910  6.300910\nharmonic mean    3.464258  4.594516  4.594516\n6.571428571428571\n"
     ]
    }
   ],
   "source": [
    "from numpy import prod\n",
    "from pandas import DataFrame\n",
    "\n",
    "values2: DataFrame = DataFrame({\"single\": [1, 3, 4, 7, 9, 10, 12], \n",
    "                                \"absolute\": [4, 5, 4, 11, 13, 7, 6],\n",
    "                                \"relative\": [0.08, 0.1, 0.08, 0.22, 0.26, 0.14, 0.12]})\n",
    "print(values2)\n",
    "print(\"\")\n",
    "print(f\"Sum single: {values2.single.sum()}\")\n",
    "print(f\"Sum absolute: {values2.absolute.sum()}\")\n",
    "print(f\"Sum relative: {int(values2.relative.sum() * 100)}%\")\n",
    "print(\"\")\n",
    "\n",
    "absolute_arithmetic_mean = sum(values2.single * values2.absolute) / values2.absolute.sum()\n",
    "absolute_geometric_mean = prod((values2.single ** values2.absolute) ** (1/values2.absolute.sum()))\n",
    "absolute_harmonic_mean = 1/(sum(values2.absolute / values2.single) / values2.absolute.sum())\n",
    "\n",
    "relative_arithmetic_mean = sum(values2.single * values2.relative)\n",
    "relative_geometric_mean = prod(values2.single ** values2.relative)\n",
    "relative_harmonic_mean = 1/sum(values2.relative/values2.single)\n",
    "\n",
    "means: DataFrame = DataFrame(data={\"single\": [scipy.mean(values2.single),\n",
    "                                              scipy.stats.gmean(values2.single),\n",
    "                                              scipy.stats.hmean(values2.single)],\n",
    "                                   \"absolute\": [absolute_arithmetic_mean,\n",
    "                                                absolute_geometric_mean,\n",
    "                                                absolute_harmonic_mean],\n",
    "                                   \"relative\": [relative_arithmetic_mean,\n",
    "                                                relative_geometric_mean,\n",
    "                                                relative_harmonic_mean]}, \n",
    "                             index=[\"arithmetic mean\", \"geometric mean\", \"harmonic mean\"])\n",
    "print(means)"
   ]
  },
  {
   "cell_type": "code",
   "execution_count": null,
   "metadata": {},
   "outputs": [],
   "source": []
  }
 ],
 "metadata": {
  "kernelspec": {
   "display_name": "Python 2",
   "language": "python",
   "name": "python2"
  },
  "language_info": {
   "codemirror_mode": {
    "name": "ipython",
    "version": 2
   },
   "file_extension": ".py",
   "mimetype": "text/x-python",
   "name": "python",
   "nbconvert_exporter": "python",
   "pygments_lexer": "ipython2",
   "version": "2.7.6"
  }
 },
 "nbformat": 4,
 "nbformat_minor": 0
}
