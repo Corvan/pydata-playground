{
 "cells": [
  {
   "cell_type": "code",
   "execution_count": 24,
   "metadata": {
    "collapsed": true
   },
   "outputs": [
    {
     "name": "stdout",
     "output_type": "stream",
     "text": [
      "Total length sum: 200\nMedian: 0\nMean deviation: 15.384615384615385\n"
     ]
    }
   ],
   "source": [
    "from statistics import median\n",
    "from typing import List\n",
    "\n",
    "import pandas as pd\n",
    "\n",
    "\n",
    "def get_single_lengths(df_lengths: pd.DataFrame) -> List[int]:\n",
    "    s_lengths = list()\n",
    "    for row in lengths.iterrows():\n",
    "        for i in range(df_lengths[\"device_count\"][row[0]]):\n",
    "            s_lengths.append(df_lengths[\"length_m\"][row[0]])\n",
    "    return s_lengths\n",
    "\n",
    "\n",
    "def calculate_mean_deviation(values: List[int], central_value: int) -> float:\n",
    "    deviations = list()\n",
    "    for v in values:\n",
    "        deviations.append(abs(v - central_value))\n",
    "    return sum(deviations) / len(values)\n",
    "\n",
    "\n",
    "lengths = pd.DataFrame({\"length_m\": [0, 10, 30, 50], \"device_count\": [7, 1, 3, 2]})\n",
    "\n",
    "print(f\"Total length sum: {sum(get_single_lengths(lengths))}\")\n",
    "print(f\"Median: {median(get_single_lengths(lengths))}\")\n",
    "print(f\"Mean deviation: {calculate_mean_deviation(get_single_lengths(lengths), median(get_single_lengths(lengths)))}\")\n"
   ]
  },
  {
   "cell_type": "code",
   "execution_count": null,
   "metadata": {},
   "outputs": [],
   "source": []
  }
 ],
 "metadata": {
  "kernelspec": {
   "display_name": "Python 2",
   "language": "python",
   "name": "python2"
  },
  "language_info": {
   "codemirror_mode": {
    "name": "ipython",
    "version": 2
   },
   "file_extension": ".py",
   "mimetype": "text/x-python",
   "name": "python",
   "nbconvert_exporter": "python",
   "pygments_lexer": "ipython2",
   "version": "2.7.6"
  }
 },
 "nbformat": 4,
 "nbformat_minor": 0
}
