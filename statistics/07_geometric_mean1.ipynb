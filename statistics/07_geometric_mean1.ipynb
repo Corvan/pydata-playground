{
 "cells": [
  {
   "cell_type": "code",
   "execution_count": 14,
   "metadata": {
    "collapsed": true
   },
   "outputs": [
    {
     "name": "stdout",
     "output_type": "stream",
     "text": [
      "0    1.000000\n1    1.000000\n2    1.030000\n3    1.060900\n4    1.092727\n5    1.125509\ndtype: float64\n"
     ]
    },
    {
     "data": {
      "text/plain": [
       "<matplotlib.axes._subplots.AxesSubplot at 0x7f56ce12d2b0>"
      ]
     },
     "execution_count": 14,
     "metadata": {},
     "output_type": "execute_result"
    },
    {
     "data": {
      "image/png": "[encoded data removed]",
      "text/plain": [
       "<Figure size 432x288 with 1 Axes>"
      ]
     },
     "metadata": {},
     "output_type": "display_data"
    }
   ],
   "source": [
    "%matplotlib inline\n",
    "import pandas as pd\n",
    "import\n",
    "\n",
    "start = 1\n",
    "start_rent = 2000\n",
    "\n",
    "increase_percentages = [0, 0, 3, 3, 3, 3]\n",
    "increase_rates = pd.Series([1 + (p / 100) for p in increase_percentages])\n",
    "absolute_increases = pd.Series()\n",
    "rents = pd.Series()\n",
    "increase = start\n",
    "for i in range(len(increase_percentages)):\n",
    "    increase = increase * increase_rates[i]\n",
    "    absolute_increases.at[i] = increase\n",
    "    rents.at[i] = start_rent * increase\n",
    "print(absolute_increases)\n",
    "absolute_increases.plot.bar()\n"
   ]
  },
  {
   "cell_type": "code",
   "execution_count": 15,
   "metadata": {},
   "outputs": [
    {
     "name": "stdout",
     "output_type": "stream",
     "text": [
      "0    2000.00000\n1    2000.00000\n2    2060.00000\n3    2121.80000\n4    2185.45400\n5    2251.01762\ndtype: float64\n"
     ]
    },
    {
     "data": {
      "text/plain": [
       "<matplotlib.axes._subplots.AxesSubplot at 0x7f56d3994be0>"
      ]
     },
     "execution_count": 15,
     "metadata": {},
     "output_type": "execute_result"
    },
    {
     "data": {
      "image/png": "[encoded data removed]",
      "text/plain": [
       "<Figure size 432x288 with 1 Axes>"
      ]
     },
     "metadata": {},
     "output_type": "display_data"
    }
   ],
   "source": [
    "print(rents)\n",
    "rents.plot.bar()"
   ]
  },
  {
   "cell_type": "code",
   "execution_count": null,
   "metadata": {},
   "outputs": [],
   "source": []
  }
 ],
 "metadata": {
  "kernelspec": {
   "display_name": "Python 2",
   "language": "python",
   "name": "python2"
  },
  "language_info": {
   "codemirror_mode": {
    "name": "ipython",
    "version": 2
   },
   "file_extension": ".py",
   "mimetype": "text/x-python",
   "name": "python",
   "nbconvert_exporter": "python",
   "pygments_lexer": "ipython2",
   "version": "2.7.6"
  }
 },
 "nbformat": 4,
 "nbformat_minor": 0
}
