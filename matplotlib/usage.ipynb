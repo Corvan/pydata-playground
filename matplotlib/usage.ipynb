{
 "cells": [
  {
   "cell_type": "code",
   "execution_count": 1,
   "metadata": {
    "collapsed": false
   },
   "outputs": [],
   "source": [
    "%matplotlib inline"
   ]
  },
  {
   "cell_type": "markdown",
   "metadata": {},
   "source": [
    "\n***********\nUsage Guide\n***********\n\nThis tutorial covers some basic usage patterns and best-practices to\nhelp you get started with Matplotlib.\n\n\nGeneral Concepts\n================\n\n:mod:`matplotlib` has an extensive codebase that can be daunting to many\nnew users. However, most of matplotlib can be understood with a fairly\nsimple conceptual framework and knowledge of a few important points.\n\nPlotting requires action on a range of levels, from the most general\n(e.g., 'contour this 2-D array') to the most specific (e.g., 'color\nthis screen pixel red'). The purpose of a plotting package is to assist\nyou in visualizing your data as easily as possible, with all the necessary\ncontrol -- that is, by using relatively high-level commands most of\nthe time, and still have the ability to use the low-level commands when\nneeded.\n\nTherefore, everything in matplotlib is organized in a hierarchy. At the top\nof the hierarchy is the matplotlib \"state-machine environment\" which is\nprovided by the :mod:`matplotlib.pyplot` module. At this level, simple\nfunctions are used to add plot elements (lines, images, text, etc.) to\nthe current axes in the current figure.\n\n<div class=\"alert alert-info\"><h4>Note</h4><p>Pyplot's state-machine environment behaves similarly to MATLAB and\n   should be most familiar to users with MATLAB experience.</p></div>\n\nThe next level down in the hierarchy is the first level of the object-oriented\ninterface, in which pyplot is used only for a few functions such as figure\ncreation, and the user explicitly creates and keeps track of the figure\nand axes objects. At this level, the user uses pyplot to create figures,\nand through those figures, one or more axes objects can be created. These\naxes objects are then used for most plotting actions.\n\nFor even more control -- which is essential for things like embedding\nmatplotlib plots in GUI applications -- the pyplot level may be dropped\ncompletely, leaving a purely object-oriented approach.\n\n"
   ]
  },
  {
   "cell_type": "code",
   "execution_count": 2,
   "metadata": {
    "collapsed": false
   },
   "outputs": [],
   "source": [
    "# sphinx_gallery_thumbnail_number = 3\n",
    "import matplotlib.pyplot as plt\n",
    "import numpy as np"
   ]
  },
  {
   "cell_type": "markdown",
   "metadata": {},
   "source": [
    "\nParts of a Figure\n=================\n\n![](../../_static/anatomy.png)\n\n\n\n:class:`~matplotlib.figure.Figure`\n----------------------------------\n\nThe **whole** figure.  The figure keeps\ntrack of all the child :class:`~matplotlib.axes.Axes`, a smattering of\n'special' artists (titles, figure legends, etc), and the **canvas**.\n(Don't worry too much about the canvas, it is crucial as it is the\nobject that actually does the drawing to get you your plot, but as the\nuser it is more-or-less invisible to you).  A figure can have any\nnumber of :class:`~matplotlib.axes.Axes`, but to be useful should have\nat least one.\n\nThe easiest way to create a new figure is with pyplot:\n\n"
   ]
  },
  {
   "cell_type": "code",
   "execution_count": 3,
   "metadata": {
    "collapsed": false
   },
   "outputs": [
    {
     "data": {
      "text/plain": [
       "<Figure size 432x288 with 0 Axes>"
      ]
     },
     "execution_count": 0,
     "metadata": {},
     "output_type": "execute_result"
    },
    {
     "data": {
      "image/png": "[encoded data removed]",
      "text/plain": [
       "<Figure size 432x288 with 4 Axes>"
      ]
     },
     "metadata": {},
     "output_type": "display_data"
    }
   ],
   "source": [
    "fig = plt.figure()  # an empty figure with no axes\n",
    "fig.suptitle('No axes on this figure')  # Add a title so we know which it is\n",
    "\n",
    "fig, ax_lst = plt.subplots(2, 2)  # a figure with a 2x2 grid of Axes"
   ]
  },
  {
   "cell_type": "markdown",
   "metadata": {},
   "source": [
    ":class:`~matplotlib.axes.Axes`\n------------------------------\n\nThis is what you think of as 'a plot', it is the region of the image\nwith the data space. A given figure\ncan contain many Axes, but a given :class:`~matplotlib.axes.Axes`\nobject can only be in one :class:`~matplotlib.figure.Figure`.  The\nAxes contains two (or three in the case of 3D)\n:class:`~matplotlib.axis.Axis` objects (be aware of the difference\nbetween **Axes** and **Axis**) which take care of the data limits (the\ndata limits can also be controlled via set via the\n:meth:`~matplotlib.axes.Axes.set_xlim` and\n:meth:`~matplotlib.axes.Axes.set_ylim` :class:`Axes` methods).  Each\n:class:`Axes` has a title (set via\n:meth:`~matplotlib.axes.Axes.set_title`), an x-label (set via\n:meth:`~matplotlib.axes.Axes.set_xlabel`), and a y-label set via\n:meth:`~matplotlib.axes.Axes.set_ylabel`).\n\nThe :class:`Axes` class and it's member functions are the primary entry\npoint to working with the OO interface.\n\n:class:`~matplotlib.axis.Axis`\n------------------------------\n\nThese are the number-line-like objects. They take\ncare of setting the graph limits and generating the ticks (the marks\non the axis) and ticklabels (strings labeling the ticks).  The\nlocation of the ticks is determined by a\n:class:`~matplotlib.ticker.Locator` object and the ticklabel strings\nare formatted by a :class:`~matplotlib.ticker.Formatter`.  The\ncombination of the correct :class:`Locator` and :class:`Formatter` gives\nvery fine control over the tick locations and labels.\n\n:class:`~matplotlib.artist.Artist`\n----------------------------------\n\nBasically everything you can see on the figure is an artist (even the\n:class:`Figure`, :class:`Axes`, and :class:`Axis` objects).  This\nincludes :class:`Text` objects, :class:`Line2D` objects,\n:class:`collection` objects, :class:`Patch` objects ... (you get the\nidea).  When the figure is rendered, all of the artists are drawn to\nthe **canvas**.  Most Artists are tied to an Axes; such an Artist\ncannot be shared by multiple Axes, or moved from one to another.\n\n\nTypes of inputs to plotting functions\n=====================================\n\nAll of plotting functions expect `np.array` or `np.ma.masked_array` as\ninput.  Classes that are 'array-like' such as `pandas` data objects\nand `np.matrix` may or may not work as intended.  It is best to\nconvert these to `np.array` objects prior to plotting.\n\nFor example, to convert a `pandas.DataFrame` ::\n\n  a = pandas.DataFrame(np.random.rand(4,5), columns = list('abcde'))\n  a_asndarray = a.values\n\nand to covert a `np.matrix` ::\n\n  b = np.matrix([[1,2],[3,4]])\n  b_asarray = np.asarray(b)\n\n\nMatplotlib, pyplot and pylab: how are they related?\n====================================================\n\nMatplotlib is the whole package; :mod:`matplotlib.pyplot`\nis a module in matplotlib; and :mod:`pylab` is a module\nthat gets installed alongside :mod:`matplotlib`.\n\nPyplot provides the state-machine interface to the underlying\nobject-oriented plotting library.  The state-machine implicitly and\nautomatically creates figures and axes to achieve the desired\nplot. For example:\n\n"
   ]
  },
  {
   "cell_type": "code",
   "execution_count": null,
   "metadata": {
    "collapsed": false
   },
   "outputs": [],
   "source": [
    "x = np.linspace(0, 2, 100)\n",
    "\n",
    "plt.plot(x, x, label='linear')\n",
    "plt.plot(x, x**2, label='quadratic')\n",
    "plt.plot(x, x**3, label='cubic')\n",
    "\n",
    "plt.xlabel('x label')\n",
    "plt.ylabel('y label')\n",
    "\n",
    "plt.title(\"Simple Plot\")\n",
    "\n",
    "plt.legend()\n",
    "\n",
    "plt.show()"
   ]
  },
  {
   "cell_type": "markdown",
   "metadata": {},
   "source": [
    "The first call to ``plt.plot`` will automatically create the necessary\nfigure and axes to achieve the desired plot.  Subsequent calls to\n``plt.plot`` re-use the current axes and each add another line.\nSetting the title, legend, and axis labels also automatically use the\ncurrent axes and set the title, create the legend, and label the axis\nrespectively.\n\n:mod:`pylab` is a convenience module that bulk imports\n:mod:`matplotlib.pyplot` (for plotting) and :mod:`numpy`\n(for mathematics and working with arrays) in a single name space.\npylab is deprecated and its use is strongly discouraged because\nof namespace pollution. Use pyplot instead.\n\nFor non-interactive plotting it is suggested\nto use pyplot to create the figures and then the OO interface for\nplotting.\n\n\nCoding Styles\n==================\n\nWhen viewing this documentation and examples, you will find different\ncoding styles and usage patterns. These styles are perfectly valid\nand have their pros and cons. Just about all of the examples can be\nconverted into another style and achieve the same results.\nThe only caveat is to avoid mixing the coding styles for your own code.\n\n<div class=\"alert alert-info\"><h4>Note</h4><p>Developers for matplotlib have to follow a specific style and guidelines.\n   See `developers-guide-index`.</p></div>\n\nOf the different styles, there are two that are officially supported.\nTherefore, these are the preferred ways to use matplotlib.\n\nFor the pyplot style, the imports at the top of your\nscripts will typically be::\n\n    import matplotlib.pyplot as plt\n    import numpy as np\n\nThen one calls, for example, np.arange, np.zeros, np.pi, plt.figure,\nplt.plot, plt.show, etc.  Use the pyplot interface\nfor creating figures, and then use the object methods for the rest:\n\n"
   ]
  },
  {
   "cell_type": "code",
   "execution_count": null,
   "metadata": {
    "collapsed": false
   },
   "outputs": [],
   "source": [
    "x = np.arange(0, 10, 0.2)\n",
    "y = np.sin(x)\n",
    "fig, ax = plt.subplots()\n",
    "ax.plot(x, y)\n",
    "plt.show()"
   ]
  },
  {
   "cell_type": "markdown",
   "metadata": {},
   "source": [
    "So, why all the extra typing instead of the MATLAB-style (which relies\non global state and a flat namespace)?  For very simple things like\nthis example, the only advantage is academic: the wordier styles are\nmore explicit, more clear as to where things come from and what is\ngoing on.  For more complicated applications, this explicitness and\nclarity becomes increasingly valuable, and the richer and more\ncomplete object-oriented interface will likely make the program easier\nto write and maintain.\n\n\nTypically one finds oneself making the same plots over and over\nagain, but with different data sets, which leads to needing to write\nspecialized functions to do the plotting.  The recommended function\nsignature is something like:\n\n"
   ]
  },
  {
   "cell_type": "code",
   "execution_count": null,
   "metadata": {
    "collapsed": false
   },
   "outputs": [],
   "source": [
    "def my_plotter(ax, data1, data2, param_dict):\n",
    "    \"\"\"\n",
    "    A helper function to make a graph\n",
    "\n",
    "    Parameters\n",
    "    ----------\n",
    "    ax : Axes\n",
    "        The axes to draw to\n",
    "\n",
    "    data1 : array\n",
    "       The x data\n",
    "\n",
    "    data2 : array\n",
    "       The y data\n",
    "\n",
    "    param_dict : dict\n",
    "       Dictionary of kwargs to pass to ax.plot\n",
    "\n",
    "    Returns\n",
    "    -------\n",
    "    out : list\n",
    "        list of artists added\n",
    "    \"\"\"\n",
    "    out = ax.plot(data1, data2, **param_dict)\n",
    "    return out\n",
    "\n",
    "# which you would then use as:\n",
    "\n",
    "data1, data2, data3, data4 = np.random.randn(4, 100)\n",
    "fig, ax = plt.subplots(1, 1)\n",
    "my_plotter(ax, data1, data2, {'marker': 'x'})"
   ]
  },
  {
   "cell_type": "markdown",
   "metadata": {},
   "source": [
    "or if you wanted to have 2 sub-plots:\n\n"
   ]
  },
  {
   "cell_type": "code",
   "execution_count": null,
   "metadata": {
    "collapsed": false
   },
   "outputs": [],
   "source": [
    "fig, (ax1, ax2) = plt.subplots(1, 2)\n",
    "my_plotter(ax1, data1, data2, {'marker': 'x'})\n",
    "my_plotter(ax2, data3, data4, {'marker': 'o'})"
   ]
  },
  {
   "cell_type": "markdown",
   "metadata": {},
   "source": [
    "Again, for these simple examples this style seems like overkill, however\nonce the graphs get slightly more complex it pays off.\n\n\n\nBackends\n========\n\n\nWhat is a backend?\n------------------\n\nA lot of documentation on the website and in the mailing lists refers\nto the \"backend\" and many new users are confused by this term.\nmatplotlib targets many different use cases and output formats.  Some\npeople use matplotlib interactively from the python shell and have\nplotting windows pop up when they type commands.  Some people run\n`Jupyter <https://jupyter.org>`_ notebooks and draw inline plots for\nquick data analysis. Others embed matplotlib into graphical user\ninterfaces like wxpython or pygtk to build rich applications.  Some\npeople use matplotlib in batch scripts to generate postscript images\nfrom numerical simulations, and still others run web application\nservers to dynamically serve up graphs.\n\nTo support all of these use cases, matplotlib can target different\noutputs, and each of these capabilities is called a backend; the\n\"frontend\" is the user facing code, i.e., the plotting code, whereas the\n\"backend\" does all the hard work behind-the-scenes to make the figure.\nThere are two types of backends: user interface backends (for use in\npygtk, wxpython, tkinter, qt4, or macosx; also referred to as\n\"interactive backends\") and hardcopy backends to make image files\n(PNG, SVG, PDF, PS; also referred to as \"non-interactive backends\").\n\nThere are four ways to configure your backend. If they conflict each other,\nthe method mentioned last in the following list will be used, e.g. calling\n:func:`~matplotlib.use()` will override the setting in your ``matplotlibrc``.\n\n\n#. The ``backend`` parameter in your ``matplotlibrc`` file (see\n   :doc:`/tutorials/introductory/customizing`)::\n\n       backend : WXAgg   # use wxpython with antigrain (agg) rendering\n\n#. Setting the :envvar:`MPLBACKEND` environment variable, either for your\n   current shell or for a single script.  On Unix::\n\n        > export MPLBACKEND=module://my_backend\n        > python simple_plot.py\n\n        > MPLBACKEND=\"module://my_backend\" python simple_plot.py\n\n   On Windows, only the former is possible::\n\n        > set MPLBACKEND=module://my_backend\n        > python simple_plot.py\n\n   Setting this environment variable will override the ``backend`` parameter\n   in *any* ``matplotlibrc``, even if there is a ``matplotlibrc`` in your\n   current working directory. Therefore setting :envvar:`MPLBACKEND`\n   globally, e.g. in your ``.bashrc`` or ``.profile``, is discouraged as it\n   might lead to counter-intuitive behavior.\n\n#. If your script depends on a specific backend you can use the\n   :func:`~matplotlib.use` function::\n\n      import matplotlib\n      matplotlib.use('PS')   # generate postscript output by default\n\n   If you use the :func:`~matplotlib.use` function, this must be done before\n   importing :mod:`matplotlib.pyplot`. Calling :func:`~matplotlib.use` after\n   pyplot has been imported will have no effect.  Using\n   :func:`~matplotlib.use` will require changes in your code if users want to\n   use a different backend.  Therefore, you should avoid explicitly calling\n   :func:`~matplotlib.use` unless absolutely necessary.\n\n<div class=\"alert alert-info\"><h4>Note</h4><p>Backend name specifications are not case-sensitive; e.g., 'GTK3Agg'\n   and 'gtk3agg' are equivalent.</p></div>\n\nWith a typical installation of matplotlib, such as from a\nbinary installer or a linux distribution package, a good default\nbackend will already be set, allowing both interactive work and\nplotting from scripts, with output to the screen and/or to\na file, so at least initially you will not need to use any of the\nmethods given above.\n\nIf, however, you want to write graphical user interfaces, or a web\napplication server (`howto-webapp`), or need a better\nunderstanding of what is going on, read on. To make things a little\nmore customizable for graphical user interfaces, matplotlib separates\nthe concept of the renderer (the thing that actually does the drawing)\nfrom the canvas (the place where the drawing goes).  The canonical\nrenderer for user interfaces is ``Agg`` which uses the `Anti-Grain\nGeometry`_ C++ library to make a raster (pixel) image of the figure.\nAll of the user interfaces except ``macosx`` can be used with\nagg rendering, e.g., ``WXAgg``, ``GTK3Agg``, ``QT4Agg``, ``QT5Agg``,\n``TkAgg``.  In addition, some of the user interfaces support other rendering\nengines.  For example, with GTK+ 3, you can also select Cairo rendering\n(backend ``GTK3Cairo``).\n\nFor the rendering engines, one can also distinguish between `vector\n<https://en.wikipedia.org/wiki/Vector_graphics>`_ or `raster\n<https://en.wikipedia.org/wiki/Raster_graphics>`_ renderers.  Vector\ngraphics languages issue drawing commands like \"draw a line from this\npoint to this point\" and hence are scale free, and raster backends\ngenerate a pixel representation of the line whose accuracy depends on a\nDPI setting.\n\nHere is a summary of the matplotlib renderers (there is an eponymous\nbacked for each; these are *non-interactive backends*, capable of\nwriting to a file):\n\n=============   ============   ================================================\nRenderer        Filetypes      Description\n=============   ============   ================================================\n:term:`AGG`     :term:`png`    :term:`raster graphics` -- high quality images\n                               using the `Anti-Grain Geometry`_ engine\nPS              :term:`ps`     :term:`vector graphics` -- Postscript_ output\n                :term:`eps`\nPDF             :term:`pdf`    :term:`vector graphics` --\n                               `Portable Document Format`_\nSVG             :term:`svg`    :term:`vector graphics` --\n                               `Scalable Vector Graphics`_\n:term:`Cairo`   :term:`png`    :term:`raster graphics` and\n                :term:`ps`     :term:`vector graphics` -- using the\n                :term:`pdf`    `Cairo graphics`_ library\n                :term:`svg`\n=============   ============   ================================================\n\nAnd here are the user interfaces and renderer combinations supported;\nthese are *interactive backends*, capable of displaying to the screen\nand of using appropriate renderers from the table above to write to\na file:\n\n========= ================================================================\nBackend   Description\n========= ================================================================\nQt5Agg    Agg rendering in a :term:`Qt5` canvas (requires PyQt5_).  This\n          backend can be activated in IPython with ``%matplotlib qt5``.\nipympl    Agg rendering embedded in a Jupyter widget.  (requires ipympl).\n          This backend can be enabled in a Jupyter notebook with\n          ``%matplotlib ipympl``.\nGTK3Agg   Agg rendering to a :term:`GTK` 3.x canvas (requires PyGObject_,\n          and pycairo_ or cairocffi_).  This backend can be activated in\n          IPython with ``%matplotlib gtk3``.\nmacosx    Agg rendering into a Cocoa canvas in OSX.  This backend can be\n          activated in IPython with ``%matplotlib osx``.\nTkAgg     Agg rendering to a :term:`Tk` canvas (requires TkInter_). This\n          backend can be activated in IPython with ``%matplotlib tk``.\nnbAgg     Embed an interactive figure in a Jupyter classic notebook.  This\n          backend can be enabled in Jupyter notebooks via\n          ``%matplotlib notebook``.\nWebAgg    On ``show()`` will start a tornado server with an interactive\n          figure.\nGTK3Cairo Cairo rendering to a :term:`GTK` 3.x canvas (requires PyGObject_,\n          and pycairo_ or cairocffi_).\nQt4Agg    Agg rendering to a :term:`Qt4` canvas (requires PyQt4_ or\n          ``pyside``).  This backend can be activated in IPython with\n          ``%matplotlib qt4``.\nWXAgg     Agg rendering to a :term:`wxWidgets` canvas (requires wxPython_ 4).\n          This backend can be activated in IPython with ``%matplotlib wx``.\n========= ================================================================\n\n\nipympl\n------\n\nThe Jupyter widget ecosystem is moving too fast to support directly in\nMatplotlib.  To install ipympl\n\n.. code-block:: bash\n\n   pip install ipympl\n   jupyter nbextension enable --py --sys-prefix ipympl\n\nor\n\n.. code-block:: bash\n\n   conda install ipympl -c conda-forge\n\nSee `jupyter-matplotlib <https://github.com/matplotlib/jupyter-matplotlib>`__\nfor more details.\n\nGTK and Cairo\n-------------\n\n`GTK3` backends (*both* `GTK3Agg` and `GTK3Cairo`) depend on Cairo\n(pycairo>=1.11.0 or cairocffi).\n\nHow do I select PyQt4 or PySide?\n--------------------------------\n\nThe `QT_API` environment variable can be set to either `pyqt` or `pyside`\nto use `PyQt4` or `PySide`, respectively.\n\nSince the default value for the bindings to be used is `PyQt4`,\n:mod:`matplotlib` first tries to import it, if the import fails, it tries to\nimport `PySide`.\n\n\nWhat is interactive mode?\n===================================\n\nUse of an interactive backend (see `what-is-a-backend`)\npermits--but does not by itself require or ensure--plotting\nto the screen.  Whether and when plotting to the screen occurs,\nand whether a script or shell session continues after a plot\nis drawn on the screen, depends on the functions and methods\nthat are called, and on a state variable that determines whether\nmatplotlib is in \"interactive mode\".  The default Boolean value is set\nby the :file:`matplotlibrc` file, and may be customized like any other\nconfiguration parameter (see :doc:`/tutorials/introductory/customizing`).  It\nmay also be set via :func:`matplotlib.interactive`, and its\nvalue may be queried via :func:`matplotlib.is_interactive`.  Turning\ninteractive mode on and off in the middle of a stream of plotting\ncommands, whether in a script or in a shell, is rarely needed\nand potentially confusing, so in the following we will assume all\nplotting is done with interactive mode either on or off.\n\n<div class=\"alert alert-info\"><h4>Note</h4><p>Major changes related to interactivity, and in particular the\n   role and behavior of :func:`~matplotlib.pyplot.show`, were made in the\n   transition to matplotlib version 1.0, and bugs were fixed in\n   1.0.1.  Here we describe the version 1.0.1 behavior for the\n   primary interactive backends, with the partial exception of\n   *macosx*.</p></div>\n\nInteractive mode may also be turned on via :func:`matplotlib.pyplot.ion`,\nand turned off via :func:`matplotlib.pyplot.ioff`.\n\n<div class=\"alert alert-info\"><h4>Note</h4><p>Interactive mode works with suitable backends in ipython and in\n   the ordinary python shell, but it does *not* work in the IDLE IDE.\n   If the default backend does not support interactivity, an interactive\n   backend can be explicitly activated using any of the methods discussed in `What is a backend?`_.</p></div>\n\n\nInteractive example\n--------------------\n\nFrom an ordinary python prompt, or after invoking ipython with no options,\ntry this::\n\n    import matplotlib.pyplot as plt\n    plt.ion()\n    plt.plot([1.6, 2.7])\n\nAssuming you are running version 1.0.1 or higher, and you have\nan interactive backend installed and selected by default, you should\nsee a plot, and your terminal prompt should also be active; you\ncan type additional commands such as::\n\n    plt.title(\"interactive test\")\n    plt.xlabel(\"index\")\n\nand you will see the plot being updated after each line.  Since version 1.5,\nmodifying the plot by other means *should* also automatically\nupdate the display on most backends. Get a reference to the :class:`~matplotlib.axes.Axes` instance,\nand call a method of that instance::\n\n    ax = plt.gca()\n    ax.plot([3.1, 2.2])\n\nIf you are using certain backends (like `macosx`), or an older version\nof matplotlib, you may not see the new line added to the plot immediately.\nIn this case, you need to explicitly call :func:`~matplotlib.pyplot.draw`\nin order to update the plot::\n\n    plt.draw()\n\n\nNon-interactive example\n-----------------------\n\nStart a fresh session as in the previous example, but now\nturn interactive mode off::\n\n    import matplotlib.pyplot as plt\n    plt.ioff()\n    plt.plot([1.6, 2.7])\n\nNothing happened--or at least nothing has shown up on the\nscreen (unless you are using *macosx* backend, which is\nanomalous).  To make the plot appear, you need to do this::\n\n    plt.show()\n\nNow you see the plot, but your terminal command line is\nunresponsive; the :func:`show()` command *blocks* the input\nof additional commands until you manually kill the plot\nwindow.\n\nWhat good is this--being forced to use a blocking function?\nSuppose you need a script that plots the contents of a file\nto the screen.  You want to look at that plot, and then end\nthe script.  Without some blocking command such as show(), the\nscript would flash up the plot and then end immediately,\nleaving nothing on the screen.\n\nIn addition, non-interactive mode delays all drawing until\nshow() is called; this is more efficient than redrawing\nthe plot each time a line in the script adds a new feature.\n\nPrior to version 1.0, show() generally could not be called\nmore than once in a single script (although sometimes one\ncould get away with it); for version 1.0.1 and above, this\nrestriction is lifted, so one can write a script like this::\n\n    import numpy as np\n    import matplotlib.pyplot as plt\n\n    plt.ioff()\n    for i in range(3):\n        plt.plot(np.random.rand(10))\n        plt.show()\n\nwhich makes three plots, one at a time. I.e. the second plot will show up,\nonce the first plot is closed.\n\nSummary\n-------\n\nIn interactive mode, pyplot functions automatically draw\nto the screen.\n\nWhen plotting interactively, if using\nobject method calls in addition to pyplot functions, then\ncall :func:`~matplotlib.pyplot.draw` whenever you want to\nrefresh the plot.\n\nUse non-interactive mode in scripts in which you want to\ngenerate one or more figures and display them before ending\nor generating a new set of figures.  In that case, use\n:func:`~matplotlib.pyplot.show` to display the figure(s) and\nto block execution until you have manually destroyed them.\n\n\nPerformance\n===========\n\nWhether exploring data in interactive mode or programmatically\nsaving lots of plots, rendering performance can be a painful\nbottleneck in your pipeline. Matplotlib provides a couple\nways to greatly reduce rendering time at the cost of a slight\nchange (to a settable tolerance) in your plot's appearance.\nThe methods available to reduce rendering time depend on the\ntype of plot that is being created.\n\nLine segment simplification\n---------------------------\n\nFor plots that have line segments (e.g. typical line plots,\noutlines of polygons, etc.), rendering performance can be\ncontrolled by the ``path.simplify`` and\n``path.simplify_threshold`` parameters in your\n``matplotlibrc`` file (see\n:doc:`/tutorials/introductory/customizing` for\nmore information about the ``matplotlibrc`` file).\nThe ``path.simplify`` parameter is a boolean indicating whether\nor not line segments are simplified at all. The\n``path.simplify_threshold`` parameter controls how much line\nsegments are simplified; higher thresholds result in quicker\nrendering.\n\nThe following script will first display the data without any\nsimplification, and then display the same data with simplification.\nTry interacting with both of them::\n\n  import numpy as np\n  import matplotlib.pyplot as plt\n  import matplotlib as mpl\n\n  # Setup, and create the data to plot\n  y = np.random.rand(100000)\n  y[50000:] *= 2\n  y[np.logspace(1, np.log10(50000), 400).astype(int)] = -1\n  mpl.rcParams['path.simplify'] = True\n\n  mpl.rcParams['path.simplify_threshold'] = 0.0\n  plt.plot(y)\n  plt.show()\n\n  mpl.rcParams['path.simplify_threshold'] = 1.0\n  plt.plot(y)\n  plt.show()\n\nMatplotlib currently defaults to a conservative simplification\nthreshold of ``1/9``. If you want to change your default settings\nto use a different value, you can change your ``matplotlibrc``\nfile.  Alternatively, you could create a new style for\ninteractive plotting (with maximal simplification) and another\nstyle for publication quality plotting (with minimal\nsimplification) and activate them as necessary. See\n:doc:`/tutorials/introductory/customizing` for\ninstructions on how to perform these actions.\n\nThe simplification works by iteratively merging line segments\ninto a single vector until the next line segment's perpendicular\ndistance to the vector (measured in display-coordinate space)\nis greater than the ``path.simplify_threshold`` parameter.\n\n<div class=\"alert alert-info\"><h4>Note</h4><p>Changes related to how line segments are simplified were made\n  in version 2.1. Rendering time will still be improved by these\n  parameters prior to 2.1, but rendering time for some kinds of\n  data will be vastly improved in versions 2.1 and greater.</p></div>\n\nMarker simplification\n---------------------\n\nMarkers can also be simplified, albeit less robustly than\nline segments. Marker simplification is only available\nto :class:`~matplotlib.lines.Line2D` objects (through the\n``markevery`` property). Wherever\n:class:`~matplotlib.lines.Line2D` construction parameter\nare passed through, such as\n:func:`matplotlib.pyplot.plot` and\n:meth:`matplotlib.axes.Axes.plot`, the ``markevery``\nparameter can be used::\n\n  plt.plot(x, y, markevery=10)\n\nThe markevery argument allows for naive subsampling, or an\nattempt at evenly spaced (along the *x* axis) sampling. See the\n:doc:`/gallery/lines_bars_and_markers/markevery_demo`\nfor more information.\n\nSplitting lines into smaller chunks\n-----------------------------------\n\nIf you are using the Agg backend (see `what-is-a-backend`),\nthen you can make use of the ``agg.path.chunksize`` rc parameter.\nThis allows you to specify a chunk size, and any lines with\ngreater than that many vertices will be split into multiple\nlines, each of which have no more than ``agg.path.chunksize``\nmany vertices. (Unless ``agg.path.chunksize`` is zero, in\nwhich case there is no chunking.) For some kind of data,\nchunking the line up into reasonable sizes can greatly\ndecrease rendering time.\n\nThe following script will first display the data without any\nchunk size restriction, and then display the same data with\na chunk size of 10,000. The difference can best be seen when\nthe figures are large, try maximizing the GUI and then\ninteracting with them::\n\n  import numpy as np\n  import matplotlib.pyplot as plt\n  import matplotlib as mpl\n  mpl.rcParams['path.simplify_threshold'] = 1.0\n\n  # Setup, and create the data to plot\n  y = np.random.rand(100000)\n  y[50000:] *= 2\n  y[np.logspace(1,np.log10(50000), 400).astype(int)] = -1\n  mpl.rcParams['path.simplify'] = True\n\n  mpl.rcParams['agg.path.chunksize'] = 0\n  plt.plot(y)\n  plt.show()\n\n  mpl.rcParams['agg.path.chunksize'] = 10000\n  plt.plot(y)\n  plt.show()\n\nLegends\n-------\n\nThe default legend behavior for axes attempts to find the location\nthat covers the fewest data points (`loc='best'`). This can be a\nvery expensive computation if there are lots of data points. In\nthis case, you may want to provide a specific location.\n\nUsing the *fast* style\n----------------------\n\nThe *fast* style can be used to automatically set\nsimplification and chunking parameters to reasonable\nsettings to speed up plotting large amounts of data.\nIt can be used simply by running::\n\n  import matplotlib.style as mplstyle\n  mplstyle.use('fast')\n\nIt is very light weight, so it plays nicely with other\nstyles, just make sure the fast style is applied last\nso that other styles do not overwrite the settings::\n\n  mplstyle.use(['dark_background', 'ggplot', 'fast'])\n\n"
   ]
  }
 ],
 "metadata": {
  "kernelspec": {
   "display_name": "Python 3",
   "language": "python",
   "name": "python3"
  },
  "language_info": {
   "codemirror_mode": {
    "name": "ipython",
    "version": 3
   },
   "file_extension": ".py",
   "mimetype": "text/x-python",
   "name": "python",
   "nbconvert_exporter": "python",
   "pygments_lexer": "ipython3",
   "version": "3.7.0"
  }
 },
 "nbformat": 4,
 "nbformat_minor": 0
}
