{
 "cells": [
  {
   "cell_type": "code",
   "execution_count": 3,
   "metadata": {
    "collapsed": true
   },
   "outputs": [],
   "source": [
    "\n",
    "import pandas as pd\n",
    "\n",
    "\n",
    "start = 1\n",
    "start_rent = 2000\n",
    "\n",
    "increase_percentages = [0, 0, 3, 3, 3, 3]\n",
    "increase_rates = pd.Series([1 + (p / 100) for p in increase_percentages])\n",
    "absolute_increases = pd.Series()\n",
    "rents = pd.Series()\n",
    "increase = start\n",
    "for i in range(len(increase_percentages)):\n",
    "    increase = increase * increase_rates[i]\n",
    "    absolute_increases.at[i] = increase\n",
    "    rents.at[i] = start_rent * increase\n"
   ]
  },
  {
   "cell_type": "code",
   "execution_count": 37,
   "metadata": {},
   "outputs": [
    {
     "data": {
      "image/png": "[encoded data removed]",
      "text/plain": [
       "<Figure size 432x288 with 2 Axes>"
      ]
     },
     "metadata": {},
     "output_type": "display_data"
    }
   ],
   "source": [
    "%matplotlib inline\n",
    "import matplotlib.pyplot as plt\n",
    "import numpy as np\n",
    "x = np.linspace(0, 2, 6)\n",
    "figure, (axes1, axes2) = plt.subplots(2, 1)\n",
    "axes1.bar(range(len(increase_percentages)), absolute_increases.values)\n",
    "axes1.set_ylim(top=1.2)\n",
    "axes2.bar(range(len(increase_percentages)), rents, color='red')\n",
    "plt.show()\n"
   ]
  },
  {
   "cell_type": "code",
   "execution_count": null,
   "metadata": {},
   "outputs": [],
   "source": []
  }
 ],
 "metadata": {
  "kernelspec": {
   "display_name": "Python 2",
   "language": "python",
   "name": "python2"
  },
  "language_info": {
   "codemirror_mode": {
    "name": "ipython",
    "version": 2
   },
   "file_extension": ".py",
   "mimetype": "text/x-python",
   "name": "python",
   "nbconvert_exporter": "python",
   "pygments_lexer": "ipython2",
   "version": "2.7.6"
  }
 },
 "nbformat": 4,
 "nbformat_minor": 0
}
